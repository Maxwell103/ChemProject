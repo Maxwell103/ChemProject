{
 "cells": [
  {
   "attachments": {},
   "cell_type": "markdown",
   "metadata": {},
   "source": [
    "# Modeling"
   ]
  },
  {
   "cell_type": "code",
   "execution_count": 3,
   "metadata": {},
   "outputs": [
    {
     "name": "stdout",
     "output_type": "stream",
     "text": [
      "Num GPUs Available:  0\n"
     ]
    }
   ],
   "source": [
    "import tensorflow as tf\n",
    "print(\"Num GPUs Available: \", len(tf.config.list_physical_devices('GPU')))"
   ]
  },
  {
   "cell_type": "code",
   "execution_count": 6,
   "metadata": {},
   "outputs": [
    {
     "data": {
      "text/plain": [
       "[]"
      ]
     },
     "execution_count": 6,
     "metadata": {},
     "output_type": "execute_result"
    }
   ],
   "source": [
    "tf.config.list_physical_devices('GPU')"
   ]
  },
  {
   "cell_type": "code",
   "execution_count": 10,
   "metadata": {},
   "outputs": [],
   "source": [
    "tf.debugging.set_log_device_placement(True)"
   ]
  },
  {
   "cell_type": "code",
   "execution_count": 1,
   "metadata": {},
   "outputs": [
    {
     "name": "stdout",
     "output_type": "stream",
     "text": [
      "Epoch 1/10\n",
      "3/3 [==============================] - 54s 12s/step - loss: 0.2157 - val_loss: 0.1321\n",
      "Epoch 2/10\n",
      "3/3 [==============================] - 32s 10s/step - loss: 0.0925 - val_loss: 0.0228\n",
      "Epoch 3/10\n",
      "3/3 [==============================] - 33s 10s/step - loss: 0.0212 - val_loss: 0.0206\n",
      "Epoch 4/10\n",
      "3/3 [==============================] - 33s 10s/step - loss: 0.0206 - val_loss: 0.0206\n",
      "Epoch 5/10\n",
      "3/3 [==============================] - 34s 10s/step - loss: 0.0206 - val_loss: 0.0206\n",
      "Epoch 6/10\n",
      "3/3 [==============================] - 31s 9s/step - loss: 0.0206 - val_loss: 0.0206\n",
      "Epoch 7/10\n",
      "3/3 [==============================] - 27s 8s/step - loss: 0.0206 - val_loss: 0.0206\n",
      "Epoch 8/10\n",
      "3/3 [==============================] - 27s 8s/step - loss: 0.0206 - val_loss: 0.0206\n",
      "Epoch 9/10\n",
      "3/3 [==============================] - 27s 8s/step - loss: 0.0206 - val_loss: 0.0206\n",
      "Epoch 10/10\n",
      "3/3 [==============================] - 26s 8s/step - loss: 0.0206 - val_loss: 0.0206\n",
      "1/1 [==============================] - 0s 226ms/step\n"
     ]
    }
   ],
   "source": [
    "import numpy as np\n",
    "from tensorflow.keras.models import Sequential\n",
    "from tensorflow.keras.layers import Conv2D, MaxPooling2D, UpSampling2D\n",
    "from tensorflow.keras.preprocessing.image import load_img, img_to_array\n",
    "from sklearn.model_selection import train_test_split\n",
    "import os\n",
    "from PIL import Image\n",
    "\n",
    "\n",
    "# Set the directory where your images are\n",
    "dir_name = \"plots\"\n",
    "\n",
    "# Get the list of all files in directory\n",
    "all_files = os.listdir(dir_name)\n",
    "\n",
    "\n",
    "# Get the list of input and output image files\n",
    "input_img_paths = [os.path.join(dir_name, file) for file in all_files if \"input\" in file]\n",
    "output_img_paths = [os.path.join(dir_name, file) for file in all_files if \"output\" in file]\n",
    "\n",
    "# Sort the lists (this assumes that for each input file 'input_plot_n.png' there is an output file 'output_plot_n.png')\n",
    "input_img_paths.sort()\n",
    "output_img_paths.sort()\n",
    "\n",
    "# Load the images and convert them to numpy arrays\n",
    "input_imgs = np.array([np.array(Image.open(img_path)) / 255 for img_path in input_img_paths])\n",
    "output_imgs = np.array([np.array(Image.open(img_path)) / 255 for img_path in output_img_paths])\n",
    "\n",
    "def crop_center(img, crop_width, crop_height):\n",
    "    img_width, img_height = img.size\n",
    "    return img.crop(((img_width - crop_width) // 2,\n",
    "                     (img_height - crop_height) // 2,\n",
    "                     (img_width + crop_width) // 2,\n",
    "                     (img_height + crop_height) // 2))\n",
    "\n",
    "# Get the dimensions of the first input image\n",
    "image_shape = Image.open(input_img_paths[0]).size\n",
    "crop_width, crop_height = image_shape\n",
    "\n",
    "# Load and preprocess the data\n",
    "input_imgs = np.array([img_to_array(crop_center(load_img(img_path), crop_width, crop_height)) / 255 for img_path in input_img_paths])\n",
    "output_imgs = np.array([img_to_array(crop_center(load_img(img_path), crop_width, crop_height)) / 255 for img_path in output_img_paths])\n",
    "\n",
    "\n",
    "\n",
    "# Split the data into training and validation sets\n",
    "input_train, input_val, output_train, output_val = train_test_split(input_imgs, output_imgs, test_size=0.2, random_state=42)\n",
    "\n",
    "# Define the model\n",
    "model = Sequential([\n",
    "    Conv2D(64, (3, 3), activation='relu', padding='same', input_shape=input_imgs.shape[1:]),\n",
    "    MaxPooling2D((2, 2), padding='same'),\n",
    "    Conv2D(32, (3, 3), activation='relu', padding='same'),\n",
    "    MaxPooling2D((2, 2), padding='same'),\n",
    "    Conv2D(32, (3, 3), activation='relu', padding='same'),\n",
    "    UpSampling2D((2, 2)),\n",
    "    Conv2D(64, (3, 3), activation='relu', padding='same'),\n",
    "    UpSampling2D((2, 2)),\n",
    "    Conv2D(3, (3, 3), activation='sigmoid', padding='same')\n",
    "])\n",
    "\n",
    "model.compile(optimizer='adam', loss='mean_squared_error')\n",
    "\n",
    "# Train the model\n",
    "model.fit(input_train, output_train, epochs=10, validation_data=(input_val, output_val))\n",
    "\n",
    "# Predict on a new image\n",
    "new_input_img = img_to_array(load_img(\"C:/Users/maxwe/Documents/Github repos/ChemProject/plots/input_plot_1.png\")) / 255\n",
    "new_output_img = model.predict(new_input_img[np.newaxis, ...])[0]\n"
   ]
  },
  {
   "cell_type": "code",
   "execution_count": 3,
   "metadata": {},
   "outputs": [
    {
     "data": {
      "image/png": "[encoded data removed]",
      "text/plain": [
       "<Figure size 1000x500 with 2 Axes>"
      ]
     },
     "metadata": {},
     "output_type": "display_data"
    }
   ],
   "source": [
    "import matplotlib.pyplot as plt\n",
    "\n",
    "# Convert the data type to uint8 and rescale the values to the 0-255 range\n",
    "new_input_img_disp = np.clip(new_input_img * 255, 0, 255).astype('uint8')\n",
    "new_output_img_disp = np.clip(new_output_img * 255, 0, 255).astype('uint8')\n",
    "\n",
    "# Create a new figure\n",
    "plt.figure(figsize=(10, 5))\n",
    "\n",
    "# Display the original image\n",
    "plt.subplot(1, 2, 1)\n",
    "plt.imshow(new_input_img_disp)\n",
    "plt.title(\"Original image\")\n",
    "plt.axis(\"off\")\n",
    "\n",
    "# Display the predicted image\n",
    "plt.subplot(1, 2, 2)\n",
    "plt.imshow(new_output_img_disp)\n",
    "plt.title(\"Predicted image\")\n",
    "plt.axis(\"off\")\n",
    "\n",
    "# Show the figure\n",
    "plt.show()\n"
   ]
  },
  {
   "cell_type": "code",
   "execution_count": null,
   "metadata": {},
   "outputs": [],
   "source": []
  }
 ],
 "metadata": {
  "kernelspec": {
   "display_name": "base",
   "language": "python",
   "name": "python3"
  },
  "language_info": {
   "codemirror_mode": {
    "name": "ipython",
    "version": 3
   },
   "file_extension": ".py",
   "mimetype": "text/x-python",
   "name": "python",
   "nbconvert_exporter": "python",
   "pygments_lexer": "ipython3",
   "version": "3.8.0"
  },
  "orig_nbformat": 4
 },
 "nbformat": 4,
 "nbformat_minor": 2
}
